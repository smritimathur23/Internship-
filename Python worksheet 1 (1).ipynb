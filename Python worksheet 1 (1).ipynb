{
 "cells": [
  {
   "cell_type": "markdown",
   "id": "c036b423",
   "metadata": {},
   "source": [
    "Q1.(c) % is used to calculate remainder in a division. "
   ]
  },
  {
   "cell_type": "code",
   "execution_count": 1,
   "id": "24af3706",
   "metadata": {},
   "outputs": [
    {
     "name": "stdout",
     "output_type": "stream",
     "text": [
      "Answer of  0\n"
     ]
    }
   ],
   "source": [
    "#Q2. In python 2//3 is equal to?\n",
    "print(\"Answer of \", 2//3)\n",
    "Answer (b) 0"
   ]
  },
  {
   "cell_type": "code",
   "execution_count": 2,
   "id": "6fef9706",
   "metadata": {},
   "outputs": [
    {
     "name": "stdout",
     "output_type": "stream",
     "text": [
      "Answer of  24\n"
     ]
    }
   ],
   "source": [
    "#Q3. In python, 6<<2 is equal to?\n",
    "print(\"Answer of \", 6<<2)\n",
    "Answer (c) 24"
   ]
  },
  {
   "cell_type": "code",
   "execution_count": 3,
   "id": "c6059ab8",
   "metadata": {},
   "outputs": [
    {
     "name": "stdout",
     "output_type": "stream",
     "text": [
      "Answer of  2\n"
     ]
    }
   ],
   "source": [
    "#Q4. In python, 6&2 will give which of the following as output?\n",
    "print(\"Answer of \", 6&2)\n",
    "Answer (a) 2 "
   ]
  },
  {
   "cell_type": "code",
   "execution_count": 4,
   "id": "1f2d864e",
   "metadata": {},
   "outputs": [
    {
     "name": "stdout",
     "output_type": "stream",
     "text": [
      "Answer of  6\n"
     ]
    }
   ],
   "source": [
    "#Q5. In python, 6|2 will give which of the following as output?\n",
    "print(\"Answer of \", 6|2)\n",
    "Answer (d) 6 "
   ]
  },
  {
   "cell_type": "code",
   "execution_count": null,
   "id": "ca311c3b",
   "metadata": {},
   "outputs": [],
   "source": [
    "#Q6. What does the finally keyword denotes in python?\n",
    "Answer (c) - the finally block will be executed no matter if the try block raises an error or not."
   ]
  },
  {
   "cell_type": "code",
   "execution_count": null,
   "id": "f10b1f06",
   "metadata": {},
   "outputs": [],
   "source": [
    "#Q7. What does raise keyword is used for in python?\n",
    "Answer (a) - It is used to raise an exception."
   ]
  },
  {
   "cell_type": "code",
   "execution_count": null,
   "id": "b0b65f4c",
   "metadata": {},
   "outputs": [],
   "source": [
    "#Q8. Which of the following is a common use case of yield keyword in python?\n",
    "Answer (d) -  in for loop"
   ]
  },
  {
   "cell_type": "code",
   "execution_count": null,
   "id": "145c4187",
   "metadata": {},
   "outputs": [],
   "source": [
    "#Q9. Which of the following are the valid variable names?\n",
    "Answer (d) None of the above. "
   ]
  },
  {
   "cell_type": "code",
   "execution_count": null,
   "id": "d28ab8e5",
   "metadata": {},
   "outputs": [],
   "source": [
    "#Q10. Which of the following are the keywords in python?\n",
    "Answer (b) raise "
   ]
  },
  {
   "cell_type": "code",
   "execution_count": 7,
   "id": "a96cfffc",
   "metadata": {},
   "outputs": [
    {
     "name": "stdout",
     "output_type": "stream",
     "text": [
      "Enter the amount to calculate the factorial.5\n",
      "Factorial of the number is:  1\n",
      "Factorial of the number is:  2\n",
      "Factorial of the number is:  6\n",
      "Factorial of the number is:  24\n",
      "Factorial of the number is:  120\n"
     ]
    }
   ],
   "source": [
    "#Q11. Write a python program to find the factorial of a number. \n",
    "# Answer:: \n",
    "\n",
    "##Let's suppose the number is 5. We are finding the factorial for the number 5. \n",
    "n = int(input(\"Enter the amount to calculate the factorial.\"))\n",
    "factorial = 1\n",
    "if n<0: \n",
    "    print(\"We can not calculate the factorial since the number is non-integer.\")\n",
    "elif n == 0: \n",
    "    print(\"The factorial of the number is 1.\")\n",
    "else : \n",
    "    for i in range (1, n+1): \n",
    "        factorial = factorial*i \n",
    "        print(\"Factorial of the number is: \", factorial)"
   ]
  },
  {
   "cell_type": "code",
   "execution_count": 9,
   "id": "3372e061",
   "metadata": {},
   "outputs": [],
   "source": [
    "#Q12. Write a python program to find whether a number is prime or composite. \n",
    "#Answer:: \n",
    "\n",
    "# Number to be checked for prime"
   ]
  },
  {
   "cell_type": "code",
   "execution_count": 10,
   "id": "84c13bc8",
   "metadata": {},
   "outputs": [
    {
     "name": "stdout",
     "output_type": "stream",
     "text": [
      "5 is a prime number.\n"
     ]
    }
   ],
   "source": [
    "n = 5 \n",
    "if n> 1: \n",
    "    for i in range (2, int(n/2)+1): \n",
    "        if (n%i) == 0: \n",
    "            print(num, \"is not a prime number.\")\n",
    "            break \n",
    "        else: \n",
    "            print(n, \"is a prime number.\")\n",
    "            "
   ]
  },
  {
   "cell_type": "code",
   "execution_count": 11,
   "id": "1b961c03",
   "metadata": {},
   "outputs": [],
   "source": [
    "#Q13. Write a python program to check whether a given string is palindrome or not. \n",
    "#Answer:: \n"
   ]
  },
  {
   "cell_type": "code",
   "execution_count": 12,
   "id": "b7014b35",
   "metadata": {},
   "outputs": [
    {
     "name": "stdout",
     "output_type": "stream",
     "text": [
      "Yes\n"
     ]
    }
   ],
   "source": [
    "# function which return reverse of a string\n",
    "\n",
    "def isPalindrome(s): \n",
    "    return s == s[::-1]\n",
    "\n",
    "\n",
    "# Driver code\n",
    "s = \"malayalam\"\n",
    "ans = isPalindrome(s)\n",
    "\n",
    "if ans:\n",
    "    print(\"Yes\")\n",
    "else:\n",
    "    print(\"No\")\n"
   ]
  },
  {
   "cell_type": "code",
   "execution_count": 13,
   "id": "b166e171",
   "metadata": {},
   "outputs": [],
   "source": [
    "#Q14.Write a Python program to get the third side of right-angled triangle from two given sides.\n",
    "#Answer:: "
   ]
  },
  {
   "cell_type": "code",
   "execution_count": 14,
   "id": "17031e4d",
   "metadata": {},
   "outputs": [
    {
     "name": "stdout",
     "output_type": "stream",
     "text": [
      "Hypotenuse = 5.0\n",
      "Adjacent = 4.0\n",
      "Opposite = 3.0\n",
      "You Know the Answer!\n"
     ]
    }
   ],
   "source": [
    "# Write a Python Program to get the third side of right angled triangle from two given sides.\n",
    "# NOTE: Use Bitwise Operations to add two Numbers.\n",
    "\n",
    "def pythagoras(opposite_side, adjacent_side, hypotenuse):\n",
    "    if opposite_side == str(\"x\"):\n",
    "        return (\"Opposite = \" + str(((hypotenuse**2) - (adjacent_side**2))**0.5))\n",
    "    elif adjacent_side == str(\"x\"):\n",
    "        return (\"Adjacent = \" + str(((hypotenuse**2) - (opposite_side**2))**0.5))\n",
    "    elif hypotenuse == str(\"x\"):\n",
    "        return (\"Hypotenuse = \" + str(((opposite_side**2) + (adjacent_side**2))**0.5))\n",
    "    else:\n",
    "        return \"You Know the Answer!\"\n",
    "\n",
    "print(pythagoras(3, 4, 'x'))\n",
    "print(pythagoras(3, 'x', 5))\n",
    "print(pythagoras('x', 4, 5))\n",
    "print(pythagoras(3, 4, 5))"
   ]
  },
  {
   "cell_type": "code",
   "execution_count": 15,
   "id": "07d15f26",
   "metadata": {},
   "outputs": [],
   "source": [
    "#Q15. Write a python program to print the frequency of each of the characters present in a given string. \n",
    "\n",
    "## Answer: "
   ]
  },
  {
   "cell_type": "code",
   "execution_count": 16,
   "id": "c46e78ec",
   "metadata": {},
   "outputs": [
    {
     "name": "stdout",
     "output_type": "stream",
     "text": [
      "{'Learn': 1, 'and': 2, 'practice': 2, 'learn': 1, 'to': 1}\n"
     ]
    }
   ],
   "source": [
    "text = \"Learn and practice and learn to practice\"\n",
    "words = []\n",
    "words = text.split()\n",
    "wfreq=[words.count(w) for w in words]\n",
    "print(dict(zip(words,wfreq)))"
   ]
  },
  {
   "cell_type": "code",
   "execution_count": null,
   "id": "469cf6df",
   "metadata": {},
   "outputs": [],
   "source": []
  }
 ],
 "metadata": {
  "kernelspec": {
   "display_name": "Python 3 (ipykernel)",
   "language": "python",
   "name": "python3"
  },
  "language_info": {
   "codemirror_mode": {
    "name": "ipython",
    "version": 3
   },
   "file_extension": ".py",
   "mimetype": "text/x-python",
   "name": "python",
   "nbconvert_exporter": "python",
   "pygments_lexer": "ipython3",
   "version": "3.9.7"
  }
 },
 "nbformat": 4,
 "nbformat_minor": 5
}
